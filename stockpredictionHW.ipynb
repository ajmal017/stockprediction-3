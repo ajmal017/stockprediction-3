{
  "nbformat": 4,
  "nbformat_minor": 0,
  "metadata": {
    "colab": {
      "name": "stockpredictionHW.ipynb",
      "version": "0.3.2",
      "provenance": [],
      "collapsed_sections": []
    },
    "kernelspec": {
      "name": "python3",
      "display_name": "Python 3"
    },
    "accelerator": "GPU"
  },
  "cells": [
    {
      "cell_type": "markdown",
      "metadata": {
        "id": "5K4tgwNy0ShO",
        "colab_type": "text"
      },
      "source": [
        "# **Setup and Dependencies**"
      ]
    },
    {
      "cell_type": "code",
      "metadata": {
        "id": "VHtBFH0_je-H",
        "colab_type": "code",
        "outputId": "a5e0b296-d8c8-4e1a-eb20-078743710a9d",
        "colab": {
          "base_uri": "https://localhost:8080/",
          "height": 401
        }
      },
      "source": [
        "import numpy as np\n",
        "import pandas as pd\n",
        "import matplotlib.pyplot as plt\n",
        "\n",
        "\n",
        "#Data import\n",
        "from pandas_datareader import data as pdr\n",
        "import fix_yahoo_finance as yf\n",
        "\n",
        "!pip install yfinance --upgrade --no-cache-dir\n",
        "yf.pdr_override()\n",
        "\n",
        "#For mounting to drive\n",
        "from google.colab import drive\n",
        "\n",
        "#Modeling\n",
        "from sklearn.linear_model import LinearRegression, Ridge, Lasso\n",
        "from sklearn import preprocessing \n",
        "from sklearn.model_selection import train_test_split\n",
        "from sklearn.ensemble import GradientBoostingRegressor\n",
        "\n",
        "#Modeling Metrics\n",
        "from sklearn import metrics"
      ],
      "execution_count": 0,
      "outputs": [
        {
          "output_type": "stream",
          "text": [
            "Collecting yfinance\n",
            "  Downloading https://files.pythonhosted.org/packages/53/0e/40387099824c98be22cd7e33a620e9d38b61998b031f0b33f0b9959717d2/yfinance-0.1.45.tar.gz\n",
            "Requirement already satisfied, skipping upgrade: pandas>=0.24 in /usr/local/lib/python3.6/dist-packages (from yfinance) (0.24.2)\n",
            "Requirement already satisfied, skipping upgrade: numpy>=1.15 in /usr/local/lib/python3.6/dist-packages (from yfinance) (1.16.5)\n",
            "Requirement already satisfied, skipping upgrade: requests>=2.20 in /usr/local/lib/python3.6/dist-packages (from yfinance) (2.21.0)\n",
            "Requirement already satisfied, skipping upgrade: multitasking>=0.0.7 in /usr/local/lib/python3.6/dist-packages (from yfinance) (0.0.9)\n",
            "Requirement already satisfied, skipping upgrade: pytz>=2011k in /usr/local/lib/python3.6/dist-packages (from pandas>=0.24->yfinance) (2018.9)\n",
            "Requirement already satisfied, skipping upgrade: python-dateutil>=2.5.0 in /usr/local/lib/python3.6/dist-packages (from pandas>=0.24->yfinance) (2.5.3)\n",
            "Requirement already satisfied, skipping upgrade: certifi>=2017.4.17 in /usr/local/lib/python3.6/dist-packages (from requests>=2.20->yfinance) (2019.6.16)\n",
            "Requirement already satisfied, skipping upgrade: idna<2.9,>=2.5 in /usr/local/lib/python3.6/dist-packages (from requests>=2.20->yfinance) (2.8)\n",
            "Requirement already satisfied, skipping upgrade: chardet<3.1.0,>=3.0.2 in /usr/local/lib/python3.6/dist-packages (from requests>=2.20->yfinance) (3.0.4)\n",
            "Requirement already satisfied, skipping upgrade: urllib3<1.25,>=1.21.1 in /usr/local/lib/python3.6/dist-packages (from requests>=2.20->yfinance) (1.24.3)\n",
            "Requirement already satisfied, skipping upgrade: six>=1.5 in /usr/local/lib/python3.6/dist-packages (from python-dateutil>=2.5.0->pandas>=0.24->yfinance) (1.12.0)\n",
            "Building wheels for collected packages: yfinance\n",
            "  Building wheel for yfinance (setup.py) ... \u001b[?25l\u001b[?25hdone\n",
            "  Created wheel for yfinance: filename=yfinance-0.1.45-cp36-none-any.whl size=14652 sha256=9dfef1b2ff42b8248427c3e6171ec4a5113bc2031e2d1484c2688212cc77f882\n",
            "  Stored in directory: /tmp/pip-ephem-wheel-cache-cvpy9xks/wheels/0c/d1/df/aa9a7744a4ac353cc9a1f2c3aaea7c1f457fc49de4286f2d88\n",
            "Successfully built yfinance\n",
            "Installing collected packages: yfinance\n",
            "Successfully installed yfinance-0.1.45\n"
          ],
          "name": "stdout"
        }
      ]
    },
    {
      "cell_type": "code",
      "metadata": {
        "id": "mMg0oA-PjFK9",
        "colab_type": "code",
        "outputId": "21ee85b7-f453-4dc7-d8fa-208d7ab23519",
        "colab": {
          "base_uri": "https://localhost:8080/",
          "height": 146
        }
      },
      "source": [
        "#Mount folder to save and retrieve outputs \n",
        "drive.mount('/content/drive',force_remount=True)\n",
        "%cd \"/content/drive/My Drive/siraj_homework\""
      ],
      "execution_count": 0,
      "outputs": [
        {
          "output_type": "stream",
          "text": [
            "Go to this URL in a browser: https://accounts.google.com/o/oauth2/auth?client_id=947318989803-6bn6qk8qdgf4n4g3pfee6491hc0brc4i.apps.googleusercontent.com&redirect_uri=urn%3Aietf%3Awg%3Aoauth%3A2.0%3Aoob&scope=email%20https%3A%2F%2Fwww.googleapis.com%2Fauth%2Fdocs.test%20https%3A%2F%2Fwww.googleapis.com%2Fauth%2Fdrive%20https%3A%2F%2Fwww.googleapis.com%2Fauth%2Fdrive.photos.readonly%20https%3A%2F%2Fwww.googleapis.com%2Fauth%2Fpeopleapi.readonly&response_type=code\n",
            "\n",
            "Enter your authorization code:\n",
            "··········\n",
            "Mounted at /content/drive\n",
            "/content/drive/My Drive/siraj_homework\n"
          ],
          "name": "stdout"
        }
      ]
    },
    {
      "cell_type": "markdown",
      "metadata": {
        "id": "v0EBaMtP0tlS",
        "colab_type": "text"
      },
      "source": [
        "# Import Data and Discovery "
      ]
    },
    {
      "cell_type": "code",
      "metadata": {
        "id": "n_Xqv2dy3OU1",
        "colab_type": "code",
        "outputId": "348e22d3-7645-4edb-ad78-fe58e2eb197c",
        "colab": {
          "base_uri": "https://localhost:8080/",
          "height": 35
        }
      },
      "source": [
        "df_full = pdr.get_data_yahoo(\"RELIANCE.NS\", start=\"2018-01-01\").reset_index()\n",
        "\n",
        "df_full.to_csv('output/RELIANCE.NS.csv',index=False)"
      ],
      "execution_count": 0,
      "outputs": [
        {
          "output_type": "stream",
          "text": [
            "[*********************100%***********************]  1 of 1 downloaded\n"
          ],
          "name": "stdout"
        }
      ]
    },
    {
      "cell_type": "code",
      "metadata": {
        "id": "5Sj2OkLX1mrN",
        "colab_type": "code",
        "outputId": "c6495291-baa4-4e34-b80e-0eabdde8bd64",
        "colab": {
          "base_uri": "https://localhost:8080/",
          "height": 35
        }
      },
      "source": [
        "df_full.shape"
      ],
      "execution_count": 0,
      "outputs": [
        {
          "output_type": "execute_result",
          "data": {
            "text/plain": [
              "(414, 7)"
            ]
          },
          "metadata": {
            "tags": []
          },
          "execution_count": 4
        }
      ]
    },
    {
      "cell_type": "code",
      "metadata": {
        "id": "zJs15gbn1qmv",
        "colab_type": "code",
        "outputId": "b8c8d672-4b3c-4d35-80ab-a6b843d3947e",
        "colab": {
          "base_uri": "https://localhost:8080/",
          "height": 198
        }
      },
      "source": [
        "df_full.head()\n"
      ],
      "execution_count": 0,
      "outputs": [
        {
          "output_type": "execute_result",
          "data": {
            "text/html": [
              "<div>\n",
              "<style scoped>\n",
              "    .dataframe tbody tr th:only-of-type {\n",
              "        vertical-align: middle;\n",
              "    }\n",
              "\n",
              "    .dataframe tbody tr th {\n",
              "        vertical-align: top;\n",
              "    }\n",
              "\n",
              "    .dataframe thead th {\n",
              "        text-align: right;\n",
              "    }\n",
              "</style>\n",
              "<table border=\"1\" class=\"dataframe\">\n",
              "  <thead>\n",
              "    <tr style=\"text-align: right;\">\n",
              "      <th></th>\n",
              "      <th>Date</th>\n",
              "      <th>Open</th>\n",
              "      <th>High</th>\n",
              "      <th>Low</th>\n",
              "      <th>Close</th>\n",
              "      <th>Adj Close</th>\n",
              "      <th>Volume</th>\n",
              "    </tr>\n",
              "  </thead>\n",
              "  <tbody>\n",
              "    <tr>\n",
              "      <th>0</th>\n",
              "      <td>2018-01-01</td>\n",
              "      <td>922.700012</td>\n",
              "      <td>922.700012</td>\n",
              "      <td>907.500000</td>\n",
              "      <td>909.750000</td>\n",
              "      <td>899.194580</td>\n",
              "      <td>4321686</td>\n",
              "    </tr>\n",
              "    <tr>\n",
              "      <th>1</th>\n",
              "      <td>2018-01-02</td>\n",
              "      <td>913.000000</td>\n",
              "      <td>919.549988</td>\n",
              "      <td>906.400024</td>\n",
              "      <td>911.150024</td>\n",
              "      <td>900.578369</td>\n",
              "      <td>4342815</td>\n",
              "    </tr>\n",
              "    <tr>\n",
              "      <th>2</th>\n",
              "      <td>2018-01-03</td>\n",
              "      <td>925.000000</td>\n",
              "      <td>926.000000</td>\n",
              "      <td>913.049988</td>\n",
              "      <td>914.799988</td>\n",
              "      <td>904.185974</td>\n",
              "      <td>6175312</td>\n",
              "    </tr>\n",
              "    <tr>\n",
              "      <th>3</th>\n",
              "      <td>2018-01-04</td>\n",
              "      <td>918.150024</td>\n",
              "      <td>921.799988</td>\n",
              "      <td>915.700012</td>\n",
              "      <td>920.299988</td>\n",
              "      <td>909.622131</td>\n",
              "      <td>4118581</td>\n",
              "    </tr>\n",
              "    <tr>\n",
              "      <th>4</th>\n",
              "      <td>2018-01-05</td>\n",
              "      <td>921.799988</td>\n",
              "      <td>926.900024</td>\n",
              "      <td>920.250000</td>\n",
              "      <td>923.250000</td>\n",
              "      <td>912.537903</td>\n",
              "      <td>3401905</td>\n",
              "    </tr>\n",
              "  </tbody>\n",
              "</table>\n",
              "</div>"
            ],
            "text/plain": [
              "        Date        Open        High  ...       Close   Adj Close   Volume\n",
              "0 2018-01-01  922.700012  922.700012  ...  909.750000  899.194580  4321686\n",
              "1 2018-01-02  913.000000  919.549988  ...  911.150024  900.578369  4342815\n",
              "2 2018-01-03  925.000000  926.000000  ...  914.799988  904.185974  6175312\n",
              "3 2018-01-04  918.150024  921.799988  ...  920.299988  909.622131  4118581\n",
              "4 2018-01-05  921.799988  926.900024  ...  923.250000  912.537903  3401905\n",
              "\n",
              "[5 rows x 7 columns]"
            ]
          },
          "metadata": {
            "tags": []
          },
          "execution_count": 5
        }
      ]
    },
    {
      "cell_type": "code",
      "metadata": {
        "id": "9gyJBwIB1vd5",
        "colab_type": "code",
        "outputId": "f4d5a601-9bba-4b8f-e599-24bcca386ac4",
        "colab": {
          "base_uri": "https://localhost:8080/",
          "height": 288
        }
      },
      "source": [
        "df_full.describe()"
      ],
      "execution_count": 0,
      "outputs": [
        {
          "output_type": "execute_result",
          "data": {
            "text/html": [
              "<div>\n",
              "<style scoped>\n",
              "    .dataframe tbody tr th:only-of-type {\n",
              "        vertical-align: middle;\n",
              "    }\n",
              "\n",
              "    .dataframe tbody tr th {\n",
              "        vertical-align: top;\n",
              "    }\n",
              "\n",
              "    .dataframe thead th {\n",
              "        text-align: right;\n",
              "    }\n",
              "</style>\n",
              "<table border=\"1\" class=\"dataframe\">\n",
              "  <thead>\n",
              "    <tr style=\"text-align: right;\">\n",
              "      <th></th>\n",
              "      <th>Open</th>\n",
              "      <th>High</th>\n",
              "      <th>Low</th>\n",
              "      <th>Close</th>\n",
              "      <th>Adj Close</th>\n",
              "      <th>Volume</th>\n",
              "    </tr>\n",
              "  </thead>\n",
              "  <tbody>\n",
              "    <tr>\n",
              "      <th>count</th>\n",
              "      <td>414.000000</td>\n",
              "      <td>414.000000</td>\n",
              "      <td>414.000000</td>\n",
              "      <td>414.000000</td>\n",
              "      <td>414.000000</td>\n",
              "      <td>4.140000e+02</td>\n",
              "    </tr>\n",
              "    <tr>\n",
              "      <th>mean</th>\n",
              "      <td>1131.795895</td>\n",
              "      <td>1146.850000</td>\n",
              "      <td>1121.372705</td>\n",
              "      <td>1133.867995</td>\n",
              "      <td>1126.339913</td>\n",
              "      <td>8.446816e+06</td>\n",
              "    </tr>\n",
              "    <tr>\n",
              "      <th>std</th>\n",
              "      <td>162.757326</td>\n",
              "      <td>154.457757</td>\n",
              "      <td>149.936764</td>\n",
              "      <td>151.805193</td>\n",
              "      <td>153.358718</td>\n",
              "      <td>4.390492e+06</td>\n",
              "    </tr>\n",
              "    <tr>\n",
              "      <th>min</th>\n",
              "      <td>0.000000</td>\n",
              "      <td>895.849976</td>\n",
              "      <td>871.000000</td>\n",
              "      <td>882.700012</td>\n",
              "      <td>872.458435</td>\n",
              "      <td>1.283997e+06</td>\n",
              "    </tr>\n",
              "    <tr>\n",
              "      <th>25%</th>\n",
              "      <td>973.162506</td>\n",
              "      <td>983.324997</td>\n",
              "      <td>962.350006</td>\n",
              "      <td>971.737503</td>\n",
              "      <td>962.068985</td>\n",
              "      <td>5.738990e+06</td>\n",
              "    </tr>\n",
              "    <tr>\n",
              "      <th>50%</th>\n",
              "      <td>1134.875000</td>\n",
              "      <td>1150.649964</td>\n",
              "      <td>1127.150024</td>\n",
              "      <td>1137.100036</td>\n",
              "      <td>1130.837647</td>\n",
              "      <td>7.445839e+06</td>\n",
              "    </tr>\n",
              "    <tr>\n",
              "      <th>75%</th>\n",
              "      <td>1265.187500</td>\n",
              "      <td>1277.924988</td>\n",
              "      <td>1250.474976</td>\n",
              "      <td>1263.337494</td>\n",
              "      <td>1257.473938</td>\n",
              "      <td>1.010151e+07</td>\n",
              "    </tr>\n",
              "    <tr>\n",
              "      <th>max</th>\n",
              "      <td>1407.949951</td>\n",
              "      <td>1417.500000</td>\n",
              "      <td>1402.650024</td>\n",
              "      <td>1408.849976</td>\n",
              "      <td>1401.091064</td>\n",
              "      <td>4.792344e+07</td>\n",
              "    </tr>\n",
              "  </tbody>\n",
              "</table>\n",
              "</div>"
            ],
            "text/plain": [
              "              Open         High  ...    Adj Close        Volume\n",
              "count   414.000000   414.000000  ...   414.000000  4.140000e+02\n",
              "mean   1131.795895  1146.850000  ...  1126.339913  8.446816e+06\n",
              "std     162.757326   154.457757  ...   153.358718  4.390492e+06\n",
              "min       0.000000   895.849976  ...   872.458435  1.283997e+06\n",
              "25%     973.162506   983.324997  ...   962.068985  5.738990e+06\n",
              "50%    1134.875000  1150.649964  ...  1130.837647  7.445839e+06\n",
              "75%    1265.187500  1277.924988  ...  1257.473938  1.010151e+07\n",
              "max    1407.949951  1417.500000  ...  1401.091064  4.792344e+07\n",
              "\n",
              "[8 rows x 6 columns]"
            ]
          },
          "metadata": {
            "tags": []
          },
          "execution_count": 6
        }
      ]
    },
    {
      "cell_type": "code",
      "metadata": {
        "id": "U2ET2j881zaC",
        "colab_type": "code",
        "outputId": "67081c7b-836c-4ab7-a812-3ad2ca3a5120",
        "colab": {
          "base_uri": "https://localhost:8080/",
          "height": 287
        }
      },
      "source": [
        "df_full[\"Adj Close\"].plot()"
      ],
      "execution_count": 0,
      "outputs": [
        {
          "output_type": "execute_result",
          "data": {
            "text/plain": [
              "<matplotlib.axes._subplots.AxesSubplot at 0x7fa078ad77b8>"
            ]
          },
          "metadata": {
            "tags": []
          },
          "execution_count": 7
        },
        {
          "output_type": "display_data",
          "data": {
            "image/png": "[encoded data removed]",
            "text/plain": [
              "<Figure size 432x288 with 1 Axes>"
            ]
          },
          "metadata": {
            "tags": []
          }
        }
      ]
    },
    {
      "cell_type": "markdown",
      "metadata": {
        "id": "-_ssJvRe6svI",
        "colab_type": "text"
      },
      "source": [
        "# Data Preproccesing "
      ]
    },
    {
      "cell_type": "code",
      "metadata": {
        "id": "cogIpTIy6KBJ",
        "colab_type": "code",
        "colab": {}
      },
      "source": [
        "df_full.set_index(\"Date\", inplace=True)"
      ],
      "execution_count": 0,
      "outputs": []
    },
    {
      "cell_type": "code",
      "metadata": {
        "id": "_Sm4QyYsDOGU",
        "colab_type": "code",
        "outputId": "d46cfec0-f3fe-4359-cd02-1b3f7f719797",
        "colab": {
          "base_uri": "https://localhost:8080/",
          "height": 228
        }
      },
      "source": [
        "df_full.head()"
      ],
      "execution_count": 0,
      "outputs": [
        {
          "output_type": "execute_result",
          "data": {
            "text/html": [
              "<div>\n",
              "<style scoped>\n",
              "    .dataframe tbody tr th:only-of-type {\n",
              "        vertical-align: middle;\n",
              "    }\n",
              "\n",
              "    .dataframe tbody tr th {\n",
              "        vertical-align: top;\n",
              "    }\n",
              "\n",
              "    .dataframe thead th {\n",
              "        text-align: right;\n",
              "    }\n",
              "</style>\n",
              "<table border=\"1\" class=\"dataframe\">\n",
              "  <thead>\n",
              "    <tr style=\"text-align: right;\">\n",
              "      <th></th>\n",
              "      <th>Open</th>\n",
              "      <th>High</th>\n",
              "      <th>Low</th>\n",
              "      <th>Close</th>\n",
              "      <th>Adj Close</th>\n",
              "      <th>Volume</th>\n",
              "    </tr>\n",
              "    <tr>\n",
              "      <th>Date</th>\n",
              "      <th></th>\n",
              "      <th></th>\n",
              "      <th></th>\n",
              "      <th></th>\n",
              "      <th></th>\n",
              "      <th></th>\n",
              "    </tr>\n",
              "  </thead>\n",
              "  <tbody>\n",
              "    <tr>\n",
              "      <th>2018-01-01</th>\n",
              "      <td>922.700012</td>\n",
              "      <td>922.700012</td>\n",
              "      <td>907.500000</td>\n",
              "      <td>909.750000</td>\n",
              "      <td>899.194580</td>\n",
              "      <td>4321686</td>\n",
              "    </tr>\n",
              "    <tr>\n",
              "      <th>2018-01-02</th>\n",
              "      <td>913.000000</td>\n",
              "      <td>919.549988</td>\n",
              "      <td>906.400024</td>\n",
              "      <td>911.150024</td>\n",
              "      <td>900.578369</td>\n",
              "      <td>4342815</td>\n",
              "    </tr>\n",
              "    <tr>\n",
              "      <th>2018-01-03</th>\n",
              "      <td>925.000000</td>\n",
              "      <td>926.000000</td>\n",
              "      <td>913.049988</td>\n",
              "      <td>914.799988</td>\n",
              "      <td>904.185974</td>\n",
              "      <td>6175312</td>\n",
              "    </tr>\n",
              "    <tr>\n",
              "      <th>2018-01-04</th>\n",
              "      <td>918.150024</td>\n",
              "      <td>921.799988</td>\n",
              "      <td>915.700012</td>\n",
              "      <td>920.299988</td>\n",
              "      <td>909.622131</td>\n",
              "      <td>4118581</td>\n",
              "    </tr>\n",
              "    <tr>\n",
              "      <th>2018-01-05</th>\n",
              "      <td>921.799988</td>\n",
              "      <td>926.900024</td>\n",
              "      <td>920.250000</td>\n",
              "      <td>923.250000</td>\n",
              "      <td>912.537903</td>\n",
              "      <td>3401905</td>\n",
              "    </tr>\n",
              "  </tbody>\n",
              "</table>\n",
              "</div>"
            ],
            "text/plain": [
              "                  Open        High         Low       Close   Adj Close   Volume\n",
              "Date                                                                           \n",
              "2018-01-01  922.700012  922.700012  907.500000  909.750000  899.194580  4321686\n",
              "2018-01-02  913.000000  919.549988  906.400024  911.150024  900.578369  4342815\n",
              "2018-01-03  925.000000  926.000000  913.049988  914.799988  904.185974  6175312\n",
              "2018-01-04  918.150024  921.799988  915.700012  920.299988  909.622131  4118581\n",
              "2018-01-05  921.799988  926.900024  920.250000  923.250000  912.537903  3401905"
            ]
          },
          "metadata": {
            "tags": []
          },
          "execution_count": 9
        }
      ]
    },
    {
      "cell_type": "code",
      "metadata": {
        "id": "8OliRKNs7mbD",
        "colab_type": "code",
        "colab": {}
      },
      "source": [
        "window_size=32\n",
        "num_samples=len(df_full)-window_size\n",
        "\n",
        "# Get indices of access for the data\n",
        "indices=np.arange(num_samples).astype(np.int)[:,None]+np.arange(window_size+1).astype(np.int)\n",
        "\n",
        "data = df_full['Adj Close'].values[indices] # Create the 2D matrix of training samples\n",
        "x = data[:,:-1] # Each row represents 32 days in the past \n",
        "y = data[:,-1] # Each output value represents the 33rd day"
      ],
      "execution_count": 0,
      "outputs": []
    },
    {
      "cell_type": "code",
      "metadata": {
        "id": "XW4xvB4WIllI",
        "colab_type": "code",
        "outputId": "3c11bb07-18b1-4e70-fdfa-da66acfa4222",
        "colab": {
          "base_uri": "https://localhost:8080/",
          "height": 1000
        }
      },
      "source": [
        "y\n"
      ],
      "execution_count": 0,
      "outputs": [
        {
          "output_type": "execute_result",
          "data": {
            "text/plain": [
              "array([ 910.610535,  916.244446,  910.412842,  918.567139,  913.625183,\n",
              "        923.410339,  927.808716,  939.471802,  943.474731,  937.396179,\n",
              "        913.378052,  900.281738,  879.426636,  900.874878,  902.505676,\n",
              "        919.506104,  921.038147,  918.27063 ,  901.220764,  889.607117,\n",
              "        885.109924,  879.476013,  886.493652,  897.613159,  883.528442,\n",
              "        890.644897,  889.359985,  872.458435,  882.589539,  889.112915,\n",
              "        884.516907,  897.662537,  900.430054,  905.37207 ,  906.409851,\n",
              "        920.049744,  917.924744,  927.956909,  926.177795,  933.29425 ,\n",
              "        927.116821,  931.366882,  917.133972,  925.140015,  958.794922,\n",
              "        959.239685,  964.033386,  984.740356,  952.12323 ,  961.414185,\n",
              "        950.442932,  942.881714,  959.733887,  955.87915 ,  965.367798,\n",
              "        969.766174,  977.772217,  975.152893,  967.591675,  945.056213,\n",
              "        934.381531,  923.014954,  920.543945,  915.997375,  901.665588,\n",
              "        905.223755,  910.116333,  909.721008,  906.805298,  905.470886,\n",
              "        910.659973,  919.753235,  929.933716,  936.654846,  943.326538,\n",
              "        960.079834,  972.929016,  971.248779,  985.580505,  990.868408,\n",
              "        996.255249, 1002.432678, 1003.767029,  984.493286, 1007.424072,\n",
              "       1019.976685, 1000.752441,  992.795837,  967.591675,  960.530762,\n",
              "        939.745911,  967.094421,  955.309692,  965.950745,  984.647217,\n",
              "        959.188232,  972.166321,  991.608643, 1020.051147, 1033.079102,\n",
              "       1076.38916 , 1093.743164, 1070.272949, 1086.334106, 1086.533081,\n",
              "       1098.765259, 1122.434204, 1114.130249, 1104.831665, 1109.008545,\n",
              "       1104.533325, 1123.627563, 1145.05896 , 1179.468384, 1185.783325,\n",
              "       1161.915527, 1170.46814 , 1186.031982, 1177.678223, 1210.993774,\n",
              "       1211.24231 , 1197.568115, 1181.158936, 1203.932861, 1194.18689 ,\n",
              "       1197.120605, 1228.099121, 1240.331299, 1262.45874 , 1270.464478,\n",
              "       1284.387329, 1311.73584 , 1287.072388, 1267.431152, 1234.81189 ,\n",
              "       1222.380737, 1235.110229, 1220.242554, 1254.453125, 1271.55835 ,\n",
              "       1248.933594, 1230.883545, 1245.602173, 1246.248535, 1219.148682,\n",
              "       1210.446777, 1204.082031, 1210.794922, 1225.264771, 1223.822754,\n",
              "       1244.508179, 1246.845215, 1251.022095, 1224.916626, 1198.463135,\n",
              "       1116.069458, 1043.073608, 1103.290283, 1084.046875, 1096.030396,\n",
              "       1081.809204, 1120.345825, 1133.473022, 1157.390625, 1144.959473,\n",
              "       1095.234863, 1056.797729, 1048.891357, 1039.990723, 1025.123169,\n",
              "       1039.145508, 1081.809204, 1051.178833, 1055.405396, 1050.432983,\n",
              "       1068.980225, 1084.29541 , 1098.019409, 1104.583008, 1087.427979,\n",
              "       1074.052124, 1093.39502 , 1091.903198, 1090.809326, 1121.191162,\n",
              "       1143.666626, 1131.135986, 1106.770996, 1096.776245, 1103.638306,\n",
              "       1121.986572, 1146.302002, 1162.064697, 1161.119995, 1150.081055,\n",
              "       1145.953979, 1148.78833 , 1117.461792, 1127.555908, 1084.245728,\n",
              "       1091.505493, 1104.384155, 1100.953247, 1106.074707, 1123.677368,\n",
              "       1130.141479, 1130.539307, 1122.235229, 1094.140869, 1083.151733,\n",
              "       1092.301025, 1114.03064 , 1119.351318, 1115.074951, 1114.826294,\n",
              "       1100.306763, 1086.731934, 1092.599487, 1098.665771, 1098.566406,\n",
              "       1104.632813, 1101.400635, 1092.002808, 1090.759644, 1123.428711,\n",
              "       1129.644287, 1128.202148, 1177.827393, 1230.883545, 1228.347656,\n",
              "       1219.546509, 1240.579834, 1239.137939, 1222.778564, 1203.982666,\n",
              "       1189.114868, 1220.391724, 1243.066162, 1283.790649, 1284.437134,\n",
              "       1303.034058, 1283.293457, 1270.66333 , 1246.348022, 1249.480713,\n",
              "       1217.457886, 1237.596436, 1213.380493, 1209.402588, 1227.552002,\n",
              "       1240.032959, 1225.56311 , 1225.513428, 1213.529785, 1216.761841,\n",
              "       1224.270264, 1219.297852, 1230.833984, 1257.834473, 1263.254395,\n",
              "       1260.121704, 1296.917969, 1324.017822, 1339.880127, 1334.161743,\n",
              "       1314.371338, 1342.61499 , 1368.968994, 1367.875   , 1334.360596,\n",
              "       1317.155762, 1359.720215, 1341.819336, 1352.510132, 1384.184692,\n",
              "       1382.046509, 1367.626343, 1345.598389, 1346.443726, 1321.929443,\n",
              "       1327.100708, 1324.067627, 1339.382813, 1335.703125, 1332.769409,\n",
              "       1336.349609, 1378.317139, 1337.940796, 1356.338867, 1381.847656,\n",
              "       1364.841797, 1385.129517, 1385.129517, 1397.312012, 1401.091064,\n",
              "       1377.272949, 1336.100952, 1292.293457, 1249.530273, 1244.259521,\n",
              "       1225.264771, 1253.508301, 1249.977905, 1258.381348, 1260.420044,\n",
              "       1318.5979  , 1332.421387, 1333.018066, 1326.553833, 1329.487549,\n",
              "       1303.431885, 1316.459717, 1305.818726, 1322.426636, 1322.824463,\n",
              "       1352.708984, 1344.206055, 1320.039917, 1307.658447, 1311.885132,\n",
              "       1321.829956, 1324.813477, 1319.94043 , 1310.293945, 1275.238037,\n",
              "       1273.94519 , 1270.315186, 1289.608398, 1272.453369, 1255.447632,\n",
              "       1288.713379, 1287.022705, 1267.132935, 1246.19873 , 1261.862061,\n",
              "       1271.458984, 1275.486694, 1276.928589, 1256.392334, 1245.154663,\n",
              "       1273.050049, 1271.807007, 1274.492188, 1273.447876, 1269.072144,\n",
              "       1285.879028, 1274.790405, 1254.900635, 1242.121338, 1273.447876,\n",
              "       1266.536255, 1252.165771, 1224.717773, 1207.115356, 1204.280884,\n",
              "       1174.396484, 1159.827148, 1173.75    , 1184.349976, 1143.349976,\n",
              "       1128.300049, 1109.400024, 1152.349976, 1162.099976, 1274.75    ,\n",
              "       1288.25    , 1278.      , 1292.599976, 1275.949951, 1270.949951,\n",
              "       1246.75    , 1275.849976, 1266.800049, 1274.849976, 1263.300049,\n",
              "       1241.75    , 1248.550049, 1206.400024, 1201.150024, 1198.599976,\n",
              "       1222.5     , 1222.199951])"
            ]
          },
          "metadata": {
            "tags": []
          },
          "execution_count": 11
        }
      ]
    },
    {
      "cell_type": "code",
      "metadata": {
        "id": "CEMyRIZw9raf",
        "colab_type": "code",
        "colab": {}
      },
      "source": [
        "split_fraction=0.8\n",
        "ind_split=int(split_fraction*num_samples)"
      ],
      "execution_count": 0,
      "outputs": []
    },
    {
      "cell_type": "code",
      "metadata": {
        "id": "61FU8Yat98Ss",
        "colab_type": "code",
        "colab": {}
      },
      "source": [
        "x_train = x[:ind_split]\n",
        "y_train = y[:ind_split]\n",
        "x_test = x[ind_split:]\n",
        "y_test = y[ind_split:]"
      ],
      "execution_count": 0,
      "outputs": []
    },
    {
      "cell_type": "code",
      "metadata": {
        "id": "PwqjnD_Q-ZHk",
        "colab_type": "code",
        "outputId": "43df081e-2938-4071-81fc-383459b94572",
        "colab": {
          "base_uri": "https://localhost:8080/",
          "height": 35
        }
      },
      "source": [
        "x_test.shape"
      ],
      "execution_count": 0,
      "outputs": [
        {
          "output_type": "execute_result",
          "data": {
            "text/plain": [
              "(77, 32)"
            ]
          },
          "metadata": {
            "tags": []
          },
          "execution_count": 14
        }
      ]
    },
    {
      "cell_type": "markdown",
      "metadata": {
        "id": "bgXxcbUPI_FS",
        "colab_type": "text"
      },
      "source": [
        "# Modeling"
      ]
    },
    {
      "cell_type": "code",
      "metadata": {
        "id": "4-veS2aTJF37",
        "colab_type": "code",
        "colab": {}
      },
      "source": [
        "#Help Functions \n",
        "def get_performance (model_pred):\n",
        "  #Function returns standard  performance metrics\n",
        "  print('Mean Absolute Error:', metrics.mean_absolute_error(y_test, model_pred).round(4))\n",
        "  print('Mean Squared Error:', metrics.mean_squared_error(y_test, model_pred).round(4))\n",
        "  print('Root Mean Squared Error:', np.sqrt(metrics.mean_squared_error(y_test, model_pred)).round(4))\n",
        "  \n",
        "  \n",
        "  \n",
        "def get_plot (model_pred):\n",
        "   plt.scatter(model_pred, y_test, color=\"gray\")\n",
        "   plt.plot(y_test, y_test, color='red', linewidth=2)\n",
        "  \n",
        "  "
      ],
      "execution_count": 0,
      "outputs": []
    },
    {
      "cell_type": "code",
      "metadata": {
        "id": "3S9rGA7mMC08",
        "colab_type": "code",
        "outputId": "cdeb5b61-9024-475a-82c2-551fa6a71347",
        "colab": {
          "base_uri": "https://localhost:8080/",
          "height": 1000
        }
      },
      "source": [
        "y"
      ],
      "execution_count": 0,
      "outputs": [
        {
          "output_type": "execute_result",
          "data": {
            "text/plain": [
              "array([ 910.610535,  916.244446,  910.412842,  918.567139,  913.625183,\n",
              "        923.410339,  927.808716,  939.471802,  943.474731,  937.396179,\n",
              "        913.378052,  900.281738,  879.426636,  900.874878,  902.505676,\n",
              "        919.506104,  921.038147,  918.27063 ,  901.220764,  889.607117,\n",
              "        885.109924,  879.476013,  886.493652,  897.613159,  883.528442,\n",
              "        890.644897,  889.359985,  872.458435,  882.589539,  889.112915,\n",
              "        884.516907,  897.662537,  900.430054,  905.37207 ,  906.409851,\n",
              "        920.049744,  917.924744,  927.956909,  926.177795,  933.29425 ,\n",
              "        927.116821,  931.366882,  917.133972,  925.140015,  958.794922,\n",
              "        959.239685,  964.033386,  984.740356,  952.12323 ,  961.414185,\n",
              "        950.442932,  942.881714,  959.733887,  955.87915 ,  965.367798,\n",
              "        969.766174,  977.772217,  975.152893,  967.591675,  945.056213,\n",
              "        934.381531,  923.014954,  920.543945,  915.997375,  901.665588,\n",
              "        905.223755,  910.116333,  909.721008,  906.805298,  905.470886,\n",
              "        910.659973,  919.753235,  929.933716,  936.654846,  943.326538,\n",
              "        960.079834,  972.929016,  971.248779,  985.580505,  990.868408,\n",
              "        996.255249, 1002.432678, 1003.767029,  984.493286, 1007.424072,\n",
              "       1019.976685, 1000.752441,  992.795837,  967.591675,  960.530762,\n",
              "        939.745911,  967.094421,  955.309692,  965.950745,  984.647217,\n",
              "        959.188232,  972.166321,  991.608643, 1020.051147, 1033.079102,\n",
              "       1076.38916 , 1093.743164, 1070.272949, 1086.334106, 1086.533081,\n",
              "       1098.765259, 1122.434204, 1114.130249, 1104.831665, 1109.008545,\n",
              "       1104.533325, 1123.627563, 1145.05896 , 1179.468384, 1185.783325,\n",
              "       1161.915527, 1170.46814 , 1186.031982, 1177.678223, 1210.993774,\n",
              "       1211.24231 , 1197.568115, 1181.158936, 1203.932861, 1194.18689 ,\n",
              "       1197.120605, 1228.099121, 1240.331299, 1262.45874 , 1270.464478,\n",
              "       1284.387329, 1311.73584 , 1287.072388, 1267.431152, 1234.81189 ,\n",
              "       1222.380737, 1235.110229, 1220.242554, 1254.453125, 1271.55835 ,\n",
              "       1248.933594, 1230.883545, 1245.602173, 1246.248535, 1219.148682,\n",
              "       1210.446777, 1204.082031, 1210.794922, 1225.264771, 1223.822754,\n",
              "       1244.508179, 1246.845215, 1251.022095, 1224.916626, 1198.463135,\n",
              "       1116.069458, 1043.073608, 1103.290283, 1084.046875, 1096.030396,\n",
              "       1081.809204, 1120.345825, 1133.473022, 1157.390625, 1144.959473,\n",
              "       1095.234863, 1056.797729, 1048.891357, 1039.990723, 1025.123169,\n",
              "       1039.145508, 1081.809204, 1051.178833, 1055.405396, 1050.432983,\n",
              "       1068.980225, 1084.29541 , 1098.019409, 1104.583008, 1087.427979,\n",
              "       1074.052124, 1093.39502 , 1091.903198, 1090.809326, 1121.191162,\n",
              "       1143.666626, 1131.135986, 1106.770996, 1096.776245, 1103.638306,\n",
              "       1121.986572, 1146.302002, 1162.064697, 1161.119995, 1150.081055,\n",
              "       1145.953979, 1148.78833 , 1117.461792, 1127.555908, 1084.245728,\n",
              "       1091.505493, 1104.384155, 1100.953247, 1106.074707, 1123.677368,\n",
              "       1130.141479, 1130.539307, 1122.235229, 1094.140869, 1083.151733,\n",
              "       1092.301025, 1114.03064 , 1119.351318, 1115.074951, 1114.826294,\n",
              "       1100.306763, 1086.731934, 1092.599487, 1098.665771, 1098.566406,\n",
              "       1104.632813, 1101.400635, 1092.002808, 1090.759644, 1123.428711,\n",
              "       1129.644287, 1128.202148, 1177.827393, 1230.883545, 1228.347656,\n",
              "       1219.546509, 1240.579834, 1239.137939, 1222.778564, 1203.982666,\n",
              "       1189.114868, 1220.391724, 1243.066162, 1283.790649, 1284.437134,\n",
              "       1303.034058, 1283.293457, 1270.66333 , 1246.348022, 1249.480713,\n",
              "       1217.457886, 1237.596436, 1213.380493, 1209.402588, 1227.552002,\n",
              "       1240.032959, 1225.56311 , 1225.513428, 1213.529785, 1216.761841,\n",
              "       1224.270264, 1219.297852, 1230.833984, 1257.834473, 1263.254395,\n",
              "       1260.121704, 1296.917969, 1324.017822, 1339.880127, 1334.161743,\n",
              "       1314.371338, 1342.61499 , 1368.968994, 1367.875   , 1334.360596,\n",
              "       1317.155762, 1359.720215, 1341.819336, 1352.510132, 1384.184692,\n",
              "       1382.046509, 1367.626343, 1345.598389, 1346.443726, 1321.929443,\n",
              "       1327.100708, 1324.067627, 1339.382813, 1335.703125, 1332.769409,\n",
              "       1336.349609, 1378.317139, 1337.940796, 1356.338867, 1381.847656,\n",
              "       1364.841797, 1385.129517, 1385.129517, 1397.312012, 1401.091064,\n",
              "       1377.272949, 1336.100952, 1292.293457, 1249.530273, 1244.259521,\n",
              "       1225.264771, 1253.508301, 1249.977905, 1258.381348, 1260.420044,\n",
              "       1318.5979  , 1332.421387, 1333.018066, 1326.553833, 1329.487549,\n",
              "       1303.431885, 1316.459717, 1305.818726, 1322.426636, 1322.824463,\n",
              "       1352.708984, 1344.206055, 1320.039917, 1307.658447, 1311.885132,\n",
              "       1321.829956, 1324.813477, 1319.94043 , 1310.293945, 1275.238037,\n",
              "       1273.94519 , 1270.315186, 1289.608398, 1272.453369, 1255.447632,\n",
              "       1288.713379, 1287.022705, 1267.132935, 1246.19873 , 1261.862061,\n",
              "       1271.458984, 1275.486694, 1276.928589, 1256.392334, 1245.154663,\n",
              "       1273.050049, 1271.807007, 1274.492188, 1273.447876, 1269.072144,\n",
              "       1285.879028, 1274.790405, 1254.900635, 1242.121338, 1273.447876,\n",
              "       1266.536255, 1252.165771, 1224.717773, 1207.115356, 1204.280884,\n",
              "       1174.396484, 1159.827148, 1173.75    , 1184.349976, 1143.349976,\n",
              "       1128.300049, 1109.400024, 1152.349976, 1162.099976, 1274.75    ,\n",
              "       1288.25    , 1278.      , 1292.599976, 1275.949951, 1270.949951,\n",
              "       1246.75    , 1275.849976, 1266.800049, 1274.849976, 1263.300049,\n",
              "       1241.75    , 1248.550049, 1206.400024, 1201.150024, 1198.599976,\n",
              "       1222.5     , 1222.199951])"
            ]
          },
          "metadata": {
            "tags": []
          },
          "execution_count": 16
        }
      ]
    },
    {
      "cell_type": "markdown",
      "metadata": {
        "id": "YU0eB9DbMFaq",
        "colab_type": "text"
      },
      "source": [
        "# Baseline"
      ]
    },
    {
      "cell_type": "code",
      "metadata": {
        "id": "EuNZLBykMIyE",
        "colab_type": "code",
        "colab": {}
      },
      "source": [
        "y_pred_lag=np.roll(y_test, 1)"
      ],
      "execution_count": 0,
      "outputs": []
    },
    {
      "cell_type": "code",
      "metadata": {
        "id": "EAUm5zYWMRXe",
        "colab_type": "code",
        "outputId": "19170b4f-adbd-4df1-e35d-25d017bac7ea",
        "colab": {
          "base_uri": "https://localhost:8080/",
          "height": 72
        }
      },
      "source": [
        "get_performance(y_pred_lag)\n"
      ],
      "execution_count": 0,
      "outputs": [
        {
          "output_type": "stream",
          "text": [
            "Mean Absolute Error: 16.5883\n",
            "Mean Squared Error: 591.6399\n",
            "Root Mean Squared Error: 24.3236\n"
          ],
          "name": "stdout"
        }
      ]
    },
    {
      "cell_type": "code",
      "metadata": {
        "id": "IlPzJ4zzSDMh",
        "colab_type": "code",
        "outputId": "0f8661df-fb69-4e0b-8e64-e05e5b384f5f",
        "colab": {
          "base_uri": "https://localhost:8080/",
          "height": 269
        }
      },
      "source": [
        "get_plot(y_pred_lag)"
      ],
      "execution_count": 0,
      "outputs": [
        {
          "output_type": "display_data",
          "data": {
            "image/png": "[encoded data removed]",
            "text/plain": [
              "<Figure size 432x288 with 1 Axes>"
            ]
          },
          "metadata": {
            "tags": []
          }
        }
      ]
    },
    {
      "cell_type": "markdown",
      "metadata": {
        "id": "MA8HaoyzMcMs",
        "colab_type": "text"
      },
      "source": [
        "# Linear Regression"
      ]
    },
    {
      "cell_type": "code",
      "metadata": {
        "id": "ehOfTWNOMgaF",
        "colab_type": "code",
        "outputId": "7e0f5cdc-342f-4be1-cef3-66a0272aa0e0",
        "colab": {
          "base_uri": "https://localhost:8080/",
          "height": 35
        }
      },
      "source": [
        "model_lr=LinearRegression()\n",
        "model_lr.fit(x_train, y_train)"
      ],
      "execution_count": 0,
      "outputs": [
        {
          "output_type": "execute_result",
          "data": {
            "text/plain": [
              "LinearRegression(copy_X=True, fit_intercept=True, n_jobs=None, normalize=False)"
            ]
          },
          "metadata": {
            "tags": []
          },
          "execution_count": 20
        }
      ]
    },
    {
      "cell_type": "code",
      "metadata": {
        "id": "fwYPR865Mu5J",
        "colab_type": "code",
        "colab": {}
      },
      "source": [
        "y_pred_lr=model_lr.predict(x_test)"
      ],
      "execution_count": 0,
      "outputs": []
    },
    {
      "cell_type": "code",
      "metadata": {
        "id": "Q1DBTkSJM7KG",
        "colab_type": "code",
        "outputId": "b220b5cf-b70b-47c3-9eea-f7bc3083f9ca",
        "colab": {
          "base_uri": "https://localhost:8080/",
          "height": 72
        }
      },
      "source": [
        "get_performance(y_pred_lr)"
      ],
      "execution_count": 0,
      "outputs": [
        {
          "output_type": "stream",
          "text": [
            "Mean Absolute Error: 16.4199\n",
            "Mean Squared Error: 521.7492\n",
            "Root Mean Squared Error: 22.8418\n"
          ],
          "name": "stdout"
        }
      ]
    },
    {
      "cell_type": "code",
      "metadata": {
        "id": "8dEDUK-bNDia",
        "colab_type": "code",
        "outputId": "04b72891-fb6f-4a46-d035-5b2fd3009119",
        "colab": {
          "base_uri": "https://localhost:8080/",
          "height": 269
        }
      },
      "source": [
        "get_plot(y_pred_lr)"
      ],
      "execution_count": 0,
      "outputs": [
        {
          "output_type": "display_data",
          "data": {
            "image/png": "[encoded data removed]",
            "text/plain": [
              "<Figure size 432x288 with 1 Axes>"
            ]
          },
          "metadata": {
            "tags": []
          }
        }
      ]
    },
    {
      "cell_type": "code",
      "metadata": {
        "id": "e0mCjlpCNJdk",
        "colab_type": "code",
        "outputId": "cf9662b1-f4c4-482b-e345-b607ee09c21f",
        "colab": {
          "base_uri": "https://localhost:8080/",
          "height": 254
        }
      },
      "source": [
        "x\n"
      ],
      "execution_count": 0,
      "outputs": [
        {
          "output_type": "execute_result",
          "data": {
            "text/plain": [
              "array([[ 899.19458 ,  900.578369,  904.185974, ...,  904.877808,\n",
              "         922.817322,  924.794067],\n",
              "       [ 900.578369,  904.185974,  909.622131, ...,  922.817322,\n",
              "         924.794067,  910.610535],\n",
              "       [ 904.185974,  909.622131,  912.537903, ...,  924.794067,\n",
              "         910.610535,  916.244446],\n",
              "       ...,\n",
              "       [1254.900635, 1242.121338, 1273.447876, ..., 1248.550049,\n",
              "        1206.400024, 1201.150024],\n",
              "       [1242.121338, 1273.447876, 1266.536255, ..., 1206.400024,\n",
              "        1201.150024, 1198.599976],\n",
              "       [1273.447876, 1266.536255, 1252.165771, ..., 1201.150024,\n",
              "        1198.599976, 1222.5     ]])"
            ]
          },
          "metadata": {
            "tags": []
          },
          "execution_count": 25
        }
      ]
    },
    {
      "cell_type": "code",
      "metadata": {
        "id": "F67RlUd4NKRl",
        "colab_type": "code",
        "outputId": "18c5ba0a-9cf7-48b0-98eb-e0662118f58e",
        "colab": {
          "base_uri": "https://localhost:8080/",
          "height": 72
        }
      },
      "source": [
        "get_performance(y_pred_lr)"
      ],
      "execution_count": 0,
      "outputs": [
        {
          "output_type": "stream",
          "text": [
            "Mean Absolute Error: 16.4199\n",
            "Mean Squared Error: 521.7492\n",
            "Root Mean Squared Error: 22.8418\n"
          ],
          "name": "stdout"
        }
      ]
    },
    {
      "cell_type": "markdown",
      "metadata": {
        "id": "_RBHTjX8YddQ",
        "colab_type": "text"
      },
      "source": [
        "# Method #1-Ridge Regression"
      ]
    },
    {
      "cell_type": "code",
      "metadata": {
        "id": "L-8HaFwbYkXH",
        "colab_type": "code",
        "colab": {}
      },
      "source": [
        "model_ridge = Ridge()\n",
        "model_ridge.fit(x_train, y_train)\n",
        "\n",
        "#generate predictions\n",
        "y_pred_ridge=model_ridge.predict(x_test)"
      ],
      "execution_count": 0,
      "outputs": []
    },
    {
      "cell_type": "code",
      "metadata": {
        "id": "k1R0XukpY88m",
        "colab_type": "code",
        "outputId": "48aa1c17-8da1-4289-df25-1f092cdfc0dd",
        "colab": {
          "base_uri": "https://localhost:8080/",
          "height": 72
        }
      },
      "source": [
        "get_performance(y_pred_ridge)"
      ],
      "execution_count": 0,
      "outputs": [
        {
          "output_type": "stream",
          "text": [
            "Mean Absolute Error: 16.4199\n",
            "Mean Squared Error: 521.7483\n",
            "Root Mean Squared Error: 22.8418\n"
          ],
          "name": "stdout"
        }
      ]
    },
    {
      "cell_type": "code",
      "metadata": {
        "id": "sMJ7B1AVZDcX",
        "colab_type": "code",
        "outputId": "ecfbf928-1a75-4faa-9c6c-96c82e7a2977",
        "colab": {
          "base_uri": "https://localhost:8080/",
          "height": 269
        }
      },
      "source": [
        "get_plot(y_pred_ridge)"
      ],
      "execution_count": 0,
      "outputs": [
        {
          "output_type": "display_data",
          "data": {
            "image/png": "[encoded data removed]",
            "text/plain": [
              "<Figure size 432x288 with 1 Axes>"
            ]
          },
          "metadata": {
            "tags": []
          }
        }
      ]
    },
    {
      "cell_type": "markdown",
      "metadata": {
        "id": "4hxCRLN6bI0x",
        "colab_type": "text"
      },
      "source": [
        "#          Gradient Boosting Trees"
      ]
    },
    {
      "cell_type": "code",
      "metadata": {
        "id": "wjexeWe6bNCR",
        "colab_type": "code",
        "colab": {}
      },
      "source": [
        "# Model #2 -  Gradient Boosting Trees\n",
        "model_gb = GradientBoostingRegressor()\n",
        "model_gb.fit(x_train, y_train)\n",
        "\n",
        "# Infer\n",
        "y_pred_gb = model_gb.predict(x_test)"
      ],
      "execution_count": 0,
      "outputs": []
    },
    {
      "cell_type": "code",
      "metadata": {
        "id": "9k-WSb_hb8bw",
        "colab_type": "code",
        "outputId": "4cc35a5d-5d4c-46e0-a792-f97fb30dae54",
        "colab": {
          "base_uri": "https://localhost:8080/",
          "height": 72
        }
      },
      "source": [
        "get_performance(y_pred_gb)"
      ],
      "execution_count": 0,
      "outputs": [
        {
          "output_type": "stream",
          "text": [
            "Mean Absolute Error: 21.2955\n",
            "Mean Squared Error: 791.2589\n",
            "Root Mean Squared Error: 28.1293\n"
          ],
          "name": "stdout"
        }
      ]
    },
    {
      "cell_type": "code",
      "metadata": {
        "id": "BM541aGWlMkb",
        "colab_type": "code",
        "outputId": "541a54df-feee-452a-db25-5dd49a933168",
        "colab": {
          "base_uri": "https://localhost:8080/",
          "height": 269
        }
      },
      "source": [
        "get_plot(y_pred_gb)"
      ],
      "execution_count": 0,
      "outputs": [
        {
          "output_type": "display_data",
          "data": {
            "image/png": "[encoded data removed]",
            "text/plain": [
              "<Figure size 432x288 with 1 Axes>"
            ]
          },
          "metadata": {
            "tags": []
          }
        }
      ]
    },
    {
      "cell_type": "markdown",
      "metadata": {
        "id": "O1MA8bGJlZmw",
        "colab_type": "text"
      },
      "source": [
        "# Comparison"
      ]
    },
    {
      "cell_type": "code",
      "metadata": {
        "id": "vh0Sadr-lcBa",
        "colab_type": "code",
        "colab": {}
      },
      "source": [
        "df_comp=pd.DataFrame({\"lag\":np.absolute(y_test-y_pred_lag),\n",
        "                     \"lr\":np.absolute(y_test-y_pred_lr),\n",
        "                     \"ridge\":np.absolute(y_test-y_pred_ridge),\n",
        "                     \"gb\":np.absolute(y_test-y_pred_gb)})"
      ],
      "execution_count": 0,
      "outputs": []
    },
    {
      "cell_type": "code",
      "metadata": {
        "id": "a8PvQiSDmJ8f",
        "colab_type": "code",
        "outputId": "e38f886c-51d4-472b-88e7-d4653ff75414",
        "colab": {
          "base_uri": "https://localhost:8080/",
          "height": 508
        }
      },
      "source": [
        "df_comp.plot.bar(figsize=(18,8))\n",
        "plt.ylim(0,10)\n",
        "plt.xlim(5,20)"
      ],
      "execution_count": 0,
      "outputs": [
        {
          "output_type": "execute_result",
          "data": {
            "text/plain": [
              "(5, 20)"
            ]
          },
          "metadata": {
            "tags": []
          },
          "execution_count": 35
        },
        {
          "output_type": "display_data",
          "data": {
            "image/png": "[encoded data removed]",
            "text/plain": [
              "<Figure size 1296x576 with 1 Axes>"
            ]
          },
          "metadata": {
            "tags": []
          }
        }
      ]
    },
    {
      "cell_type": "markdown",
      "metadata": {
        "id": "Eqm8ax_qmqMZ",
        "colab_type": "text"
      },
      "source": [
        "# Conclusion \n",
        "\n",
        "I have used Reliance Industries Ltd to perform the following stock prediction using Regression models"
      ]
    }
  ]
}